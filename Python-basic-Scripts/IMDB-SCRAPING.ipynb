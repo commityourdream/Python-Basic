{
 "cells": [
  {
   "cell_type": "code",
   "execution_count": 14,
   "metadata": {},
   "outputs": [],
   "source": [
    "#Released between 2018-01-01 and 2018-12-31 (Sorted by Number of Votes Descending)"
   ]
  },
  {
   "cell_type": "code",
   "execution_count": 7,
   "metadata": {},
   "outputs": [],
   "source": [
    "from requests import get\n",
    "url='https://www.imdb.com/search/title?release_date=2018&sort=num_votes,desc&page=1'\n",
    "response=get(url)\n",
    "#print(response.text[:500])"
   ]
  },
  {
   "cell_type": "code",
   "execution_count": 10,
   "metadata": {},
   "outputs": [
    {
     "data": {
      "text/plain": [
       "bs4.BeautifulSoup"
      ]
     },
     "execution_count": 10,
     "metadata": {},
     "output_type": "execute_result"
    }
   ],
   "source": [
    "from bs4 import BeautifulSoup\n",
    "html_soup=BeautifulSoup(response.text,'html.parser')\n",
    "type(html_soup)"
   ]
  },
  {
   "cell_type": "code",
   "execution_count": 12,
   "metadata": {},
   "outputs": [
    {
     "name": "stdout",
     "output_type": "stream",
     "text": [
      "50\n",
      "<class 'bs4.element.ResultSet'>\n"
     ]
    }
   ],
   "source": [
    "movie_containers=html_soup.find_all('div',class_='lister-item mode-advanced')\n",
    "print len(movie_containers)\n",
    "print type(movie_containers)"
   ]
  },
  {
   "cell_type": "code",
   "execution_count": 13,
   "metadata": {},
   "outputs": [],
   "source": [
    "##first_movie"
   ]
  },
  {
   "cell_type": "code",
   "execution_count": 15,
   "metadata": {},
   "outputs": [],
   "source": [
    "first_movie=movie_containers[0]"
   ]
  },
  {
   "cell_type": "code",
   "execution_count": 17,
   "metadata": {},
   "outputs": [],
   "source": [
    "#first_movie"
   ]
  },
  {
   "cell_type": "code",
   "execution_count": 22,
   "metadata": {},
   "outputs": [
    {
     "data": {
      "text/plain": [
       "<a href=\"/title/tt4154756/?ref_=adv_li_tt\">Avengers: Infinity War</a>"
      ]
     },
     "execution_count": 22,
     "metadata": {},
     "output_type": "execute_result"
    }
   ],
   "source": [
    "#first_movie.div\n",
    "#first_movie.h3\n",
    "first_movie.h3.a"
   ]
  },
  {
   "cell_type": "code",
   "execution_count": 23,
   "metadata": {},
   "outputs": [
    {
     "data": {
      "text/plain": [
       "u'Avengers: Infinity War'"
      ]
     },
     "execution_count": 23,
     "metadata": {},
     "output_type": "execute_result"
    }
   ],
   "source": [
    "first_movie.h3.a.text"
   ]
  },
  {
   "cell_type": "code",
   "execution_count": 29,
   "metadata": {},
   "outputs": [
    {
     "data": {
      "text/plain": [
       "u'(2018)'"
      ]
     },
     "execution_count": 29,
     "metadata": {},
     "output_type": "execute_result"
    }
   ],
   "source": [
    "first_year=first_movie.h3.find('span',class_='lister-item-year text-muted unbold')\n",
    "first_year.text"
   ]
  },
  {
   "cell_type": "code",
   "execution_count": 32,
   "metadata": {},
   "outputs": [
    {
     "data": {
      "text/plain": [
       "u'8.5'"
      ]
     },
     "execution_count": 32,
     "metadata": {},
     "output_type": "execute_result"
    }
   ],
   "source": [
    "first_movie.strong\n",
    "first_movie.strong.text"
   ]
  },
  {
   "cell_type": "code",
   "execution_count": 34,
   "metadata": {},
   "outputs": [
    {
     "data": {
      "text/plain": [
       "8.5"
      ]
     },
     "execution_count": 34,
     "metadata": {},
     "output_type": "execute_result"
    }
   ],
   "source": [
    "first_imbd=float(first_movie.strong.text)\n",
    "first_imbd"
   ]
  },
  {
   "cell_type": "code",
   "execution_count": 75,
   "metadata": {},
   "outputs": [
    {
     "name": "stdout",
     "output_type": "stream",
     "text": [
      "68\n"
     ]
    }
   ],
   "source": [
    "first_mscore = first_movie.find('span', class_ = 'metascore favorable')\n",
    "\n",
    "first_mscore = int(first_mscore.text)\n",
    "print(first_mscore)"
   ]
  },
  {
   "cell_type": "code",
   "execution_count": 87,
   "metadata": {},
   "outputs": [
    {
     "name": "stdout",
     "output_type": "stream",
     "text": [
      "<span data-value=\"565951\" name=\"nv\">565,951</span>\n"
     ]
    }
   ],
   "source": [
    "first_votes=first_movie.find('span',attrs={'name':'nv'})\n",
    "print(first_votes)"
   ]
  },
  {
   "cell_type": "code",
   "execution_count": 88,
   "metadata": {},
   "outputs": [
    {
     "data": {
      "text/plain": [
       "u'565951'"
      ]
     },
     "execution_count": 88,
     "metadata": {},
     "output_type": "execute_result"
    }
   ],
   "source": [
    "first_votes['data-value']"
   ]
  },
  {
   "cell_type": "code",
   "execution_count": 90,
   "metadata": {},
   "outputs": [
    {
     "name": "stdout",
     "output_type": "stream",
     "text": [
      "565951\n"
     ]
    }
   ],
   "source": [
    "first_votes=int(first_votes['data-value'])\n",
    "print(first_votes)"
   ]
  },
  {
   "cell_type": "code",
   "execution_count": 107,
   "metadata": {},
   "outputs": [],
   "source": [
    "names=[]\n",
    "years=[]\n",
    "imdb_ratings=[]\n",
    "metascores=[]\n",
    "votes=[]\n"
   ]
  },
  {
   "cell_type": "code",
   "execution_count": 133,
   "metadata": {},
   "outputs": [],
   "source": [
    "for container in movie_containers:\n",
    "    if container.find('div',class_='ratings-metascore')is not None:\n",
    "        #name\n",
    "        name=container.h3.a.text\n",
    "        names.append(name)\n",
    "        #Year\n",
    "        year=container.h3.find('span',class_='lister-item-year').text\n",
    "        years.append(year)\n",
    "        #imdb_Rating\n",
    "        imdb=float(container.strong.text)\n",
    "        imdb_ratings.append(imdb)\n",
    "        #metascore\n",
    "        m_score=container.find('span', class_ = 'metascore').text\n",
    "        metascores.append(int(m_score))\n",
    "        # The number of votes\n",
    "        vote = container.find('span', attrs = {'name':'nv'})['data-value']\n",
    "        votes.append(int(vote))\n",
    "        \n",
    "        \n",
    "        \n",
    "        "
   ]
  },
  {
   "cell_type": "code",
   "execution_count": 134,
   "metadata": {},
   "outputs": [
    {
     "data": {
      "text/plain": [
       "u'51822'"
      ]
     },
     "execution_count": 134,
     "metadata": {},
     "output_type": "execute_result"
    }
   ],
   "source": [
    "vote"
   ]
  },
  {
   "cell_type": "code",
   "execution_count": 165,
   "metadata": {},
   "outputs": [
    {
     "name": "stdout",
     "output_type": "stream",
     "text": [
      "<class 'pandas.core.frame.DataFrame'>\n",
      "RangeIndex: 94 entries, 0 to 93\n",
      "Data columns (total 5 columns):\n",
      "IMDb         94 non-null float64\n",
      "Metascore    94 non-null int64\n",
      "Movie        94 non-null object\n",
      "Votes        94 non-null int64\n",
      "Year         94 non-null object\n",
      "dtypes: float64(1), int64(2), object(2)\n",
      "memory usage: 3.7+ KB\n",
      "None\n"
     ]
    },
    {
     "data": {
      "text/html": [
       "<div>\n",
       "<style scoped>\n",
       "    .dataframe tbody tr th:only-of-type {\n",
       "        vertical-align: middle;\n",
       "    }\n",
       "\n",
       "    .dataframe tbody tr th {\n",
       "        vertical-align: top;\n",
       "    }\n",
       "\n",
       "    .dataframe thead th {\n",
       "        text-align: right;\n",
       "    }\n",
       "</style>\n",
       "<table border=\"1\" class=\"dataframe\">\n",
       "  <thead>\n",
       "    <tr style=\"text-align: right;\">\n",
       "      <th></th>\n",
       "      <th>IMDb</th>\n",
       "      <th>Metascore</th>\n",
       "      <th>Movie</th>\n",
       "      <th>Votes</th>\n",
       "      <th>Year</th>\n",
       "    </tr>\n",
       "  </thead>\n",
       "  <tbody>\n",
       "    <tr>\n",
       "      <th>0</th>\n",
       "      <td>8.5</td>\n",
       "      <td>68</td>\n",
       "      <td>Avengers: Infinity War</td>\n",
       "      <td>565951</td>\n",
       "      <td>(2018)</td>\n",
       "    </tr>\n",
       "    <tr>\n",
       "      <th>1</th>\n",
       "      <td>7.4</td>\n",
       "      <td>88</td>\n",
       "      <td>Black Panther</td>\n",
       "      <td>442281</td>\n",
       "      <td>(2018)</td>\n",
       "    </tr>\n",
       "    <tr>\n",
       "      <th>2</th>\n",
       "      <td>7.8</td>\n",
       "      <td>66</td>\n",
       "      <td>Deadpool 2</td>\n",
       "      <td>333358</td>\n",
       "      <td>(2018)</td>\n",
       "    </tr>\n",
       "    <tr>\n",
       "      <th>3</th>\n",
       "      <td>7.5</td>\n",
       "      <td>64</td>\n",
       "      <td>Ready Player One</td>\n",
       "      <td>265482</td>\n",
       "      <td>(2018)</td>\n",
       "    </tr>\n",
       "    <tr>\n",
       "      <th>4</th>\n",
       "      <td>7.6</td>\n",
       "      <td>82</td>\n",
       "      <td>A Quiet Place</td>\n",
       "      <td>257273</td>\n",
       "      <td>(2018)</td>\n",
       "    </tr>\n",
       "    <tr>\n",
       "      <th>5</th>\n",
       "      <td>6.8</td>\n",
       "      <td>35</td>\n",
       "      <td>Venom</td>\n",
       "      <td>210389</td>\n",
       "      <td>(2018)</td>\n",
       "    </tr>\n",
       "    <tr>\n",
       "      <th>6</th>\n",
       "      <td>7.8</td>\n",
       "      <td>86</td>\n",
       "      <td>Mission: Impossible - Fallout</td>\n",
       "      <td>204365</td>\n",
       "      <td>(2018)</td>\n",
       "    </tr>\n",
       "    <tr>\n",
       "      <th>7</th>\n",
       "      <td>6.9</td>\n",
       "      <td>79</td>\n",
       "      <td>Annihilation</td>\n",
       "      <td>200356</td>\n",
       "      <td>(2018)</td>\n",
       "    </tr>\n",
       "    <tr>\n",
       "      <th>8</th>\n",
       "      <td>7.0</td>\n",
       "      <td>62</td>\n",
       "      <td>Solo: A Star Wars Story</td>\n",
       "      <td>191673</td>\n",
       "      <td>(2018)</td>\n",
       "    </tr>\n",
       "    <tr>\n",
       "      <th>9</th>\n",
       "      <td>6.2</td>\n",
       "      <td>51</td>\n",
       "      <td>Jurassic World: Fallen Kingdom</td>\n",
       "      <td>191076</td>\n",
       "      <td>(2018)</td>\n",
       "    </tr>\n",
       "    <tr>\n",
       "      <th>10</th>\n",
       "      <td>7.1</td>\n",
       "      <td>70</td>\n",
       "      <td>Ant-Man and the Wasp</td>\n",
       "      <td>181570</td>\n",
       "      <td>(2018)</td>\n",
       "    </tr>\n",
       "    <tr>\n",
       "      <th>11</th>\n",
       "      <td>8.3</td>\n",
       "      <td>49</td>\n",
       "      <td>Bohemian Rhapsody</td>\n",
       "      <td>179845</td>\n",
       "      <td>(2018)</td>\n",
       "    </tr>\n",
       "    <tr>\n",
       "      <th>12</th>\n",
       "      <td>7.8</td>\n",
       "      <td>80</td>\n",
       "      <td>Incredibles 2</td>\n",
       "      <td>164017</td>\n",
       "      <td>(2018)</td>\n",
       "    </tr>\n",
       "    <tr>\n",
       "      <th>13</th>\n",
       "      <td>6.3</td>\n",
       "      <td>48</td>\n",
       "      <td>Tomb Raider</td>\n",
       "      <td>149334</td>\n",
       "      <td>(2018)</td>\n",
       "    </tr>\n",
       "    <tr>\n",
       "      <th>14</th>\n",
       "      <td>6.7</td>\n",
       "      <td>51</td>\n",
       "      <td>Bird Box</td>\n",
       "      <td>143189</td>\n",
       "      <td>(2018)</td>\n",
       "    </tr>\n",
       "    <tr>\n",
       "      <th>15</th>\n",
       "      <td>7.0</td>\n",
       "      <td>66</td>\n",
       "      <td>Game Night</td>\n",
       "      <td>142600</td>\n",
       "      <td>(I) (2018)</td>\n",
       "    </tr>\n",
       "    <tr>\n",
       "      <th>16</th>\n",
       "      <td>8.1</td>\n",
       "      <td>88</td>\n",
       "      <td>A Star Is Born</td>\n",
       "      <td>132477</td>\n",
       "      <td>(2018)</td>\n",
       "    </tr>\n",
       "    <tr>\n",
       "      <th>17</th>\n",
       "      <td>7.5</td>\n",
       "      <td>55</td>\n",
       "      <td>Aquaman</td>\n",
       "      <td>125764</td>\n",
       "      <td>(2018)</td>\n",
       "    </tr>\n",
       "    <tr>\n",
       "      <th>18</th>\n",
       "      <td>6.6</td>\n",
       "      <td>53</td>\n",
       "      <td>Red Sparrow</td>\n",
       "      <td>122106</td>\n",
       "      <td>(2018)</td>\n",
       "    </tr>\n",
       "    <tr>\n",
       "      <th>19</th>\n",
       "      <td>7.3</td>\n",
       "      <td>87</td>\n",
       "      <td>Hereditary</td>\n",
       "      <td>121876</td>\n",
       "      <td>(2018)</td>\n",
       "    </tr>\n",
       "    <tr>\n",
       "      <th>20</th>\n",
       "      <td>6.2</td>\n",
       "      <td>61</td>\n",
       "      <td>Ocean's Eight</td>\n",
       "      <td>118872</td>\n",
       "      <td>(2018)</td>\n",
       "    </tr>\n",
       "    <tr>\n",
       "      <th>21</th>\n",
       "      <td>6.8</td>\n",
       "      <td>52</td>\n",
       "      <td>Fantastic Beasts: The Crimes of Grindelwald</td>\n",
       "      <td>108159</td>\n",
       "      <td>(2018)</td>\n",
       "    </tr>\n",
       "    <tr>\n",
       "      <th>22</th>\n",
       "      <td>6.1</td>\n",
       "      <td>45</td>\n",
       "      <td>Rampage</td>\n",
       "      <td>101501</td>\n",
       "      <td>(2018)</td>\n",
       "    </tr>\n",
       "    <tr>\n",
       "      <th>23</th>\n",
       "      <td>5.7</td>\n",
       "      <td>46</td>\n",
       "      <td>The Meg</td>\n",
       "      <td>91846</td>\n",
       "      <td>(2018)</td>\n",
       "    </tr>\n",
       "    <tr>\n",
       "      <th>24</th>\n",
       "      <td>7.9</td>\n",
       "      <td>82</td>\n",
       "      <td>Isle of Dogs</td>\n",
       "      <td>89677</td>\n",
       "      <td>(2018)</td>\n",
       "    </tr>\n",
       "    <tr>\n",
       "      <th>25</th>\n",
       "      <td>6.2</td>\n",
       "      <td>50</td>\n",
       "      <td>Maze Runner: The Death Cure</td>\n",
       "      <td>82976</td>\n",
       "      <td>(2018)</td>\n",
       "    </tr>\n",
       "    <tr>\n",
       "      <th>26</th>\n",
       "      <td>7.6</td>\n",
       "      <td>83</td>\n",
       "      <td>BlacKkKlansman</td>\n",
       "      <td>82060</td>\n",
       "      <td>(2018)</td>\n",
       "    </tr>\n",
       "    <tr>\n",
       "      <th>27</th>\n",
       "      <td>7.6</td>\n",
       "      <td>67</td>\n",
       "      <td>Upgrade</td>\n",
       "      <td>81499</td>\n",
       "      <td>(2018)</td>\n",
       "    </tr>\n",
       "    <tr>\n",
       "      <th>28</th>\n",
       "      <td>5.6</td>\n",
       "      <td>44</td>\n",
       "      <td>Pacific Rim: Uprising</td>\n",
       "      <td>81472</td>\n",
       "      <td>(2018)</td>\n",
       "    </tr>\n",
       "    <tr>\n",
       "      <th>29</th>\n",
       "      <td>7.1</td>\n",
       "      <td>61</td>\n",
       "      <td>Sicario: Day of the Soldado</td>\n",
       "      <td>78257</td>\n",
       "      <td>(2018)</td>\n",
       "    </tr>\n",
       "    <tr>\n",
       "      <th>...</th>\n",
       "      <td>...</td>\n",
       "      <td>...</td>\n",
       "      <td>...</td>\n",
       "      <td>...</td>\n",
       "      <td>...</td>\n",
       "    </tr>\n",
       "    <tr>\n",
       "      <th>64</th>\n",
       "      <td>7.5</td>\n",
       "      <td>55</td>\n",
       "      <td>Aquaman</td>\n",
       "      <td>125764</td>\n",
       "      <td>(2018)</td>\n",
       "    </tr>\n",
       "    <tr>\n",
       "      <th>65</th>\n",
       "      <td>6.6</td>\n",
       "      <td>53</td>\n",
       "      <td>Red Sparrow</td>\n",
       "      <td>122106</td>\n",
       "      <td>(2018)</td>\n",
       "    </tr>\n",
       "    <tr>\n",
       "      <th>66</th>\n",
       "      <td>7.3</td>\n",
       "      <td>87</td>\n",
       "      <td>Hereditary</td>\n",
       "      <td>121876</td>\n",
       "      <td>(2018)</td>\n",
       "    </tr>\n",
       "    <tr>\n",
       "      <th>67</th>\n",
       "      <td>6.2</td>\n",
       "      <td>61</td>\n",
       "      <td>Ocean's Eight</td>\n",
       "      <td>118872</td>\n",
       "      <td>(2018)</td>\n",
       "    </tr>\n",
       "    <tr>\n",
       "      <th>68</th>\n",
       "      <td>6.8</td>\n",
       "      <td>52</td>\n",
       "      <td>Fantastic Beasts: The Crimes of Grindelwald</td>\n",
       "      <td>108159</td>\n",
       "      <td>(2018)</td>\n",
       "    </tr>\n",
       "    <tr>\n",
       "      <th>69</th>\n",
       "      <td>6.1</td>\n",
       "      <td>45</td>\n",
       "      <td>Rampage</td>\n",
       "      <td>101501</td>\n",
       "      <td>(2018)</td>\n",
       "    </tr>\n",
       "    <tr>\n",
       "      <th>70</th>\n",
       "      <td>5.7</td>\n",
       "      <td>46</td>\n",
       "      <td>The Meg</td>\n",
       "      <td>91846</td>\n",
       "      <td>(2018)</td>\n",
       "    </tr>\n",
       "    <tr>\n",
       "      <th>71</th>\n",
       "      <td>7.9</td>\n",
       "      <td>82</td>\n",
       "      <td>Isle of Dogs</td>\n",
       "      <td>89677</td>\n",
       "      <td>(2018)</td>\n",
       "    </tr>\n",
       "    <tr>\n",
       "      <th>72</th>\n",
       "      <td>6.2</td>\n",
       "      <td>50</td>\n",
       "      <td>Maze Runner: The Death Cure</td>\n",
       "      <td>82976</td>\n",
       "      <td>(2018)</td>\n",
       "    </tr>\n",
       "    <tr>\n",
       "      <th>73</th>\n",
       "      <td>7.6</td>\n",
       "      <td>83</td>\n",
       "      <td>BlacKkKlansman</td>\n",
       "      <td>82060</td>\n",
       "      <td>(2018)</td>\n",
       "    </tr>\n",
       "    <tr>\n",
       "      <th>74</th>\n",
       "      <td>7.6</td>\n",
       "      <td>67</td>\n",
       "      <td>Upgrade</td>\n",
       "      <td>81499</td>\n",
       "      <td>(2018)</td>\n",
       "    </tr>\n",
       "    <tr>\n",
       "      <th>75</th>\n",
       "      <td>5.6</td>\n",
       "      <td>44</td>\n",
       "      <td>Pacific Rim: Uprising</td>\n",
       "      <td>81472</td>\n",
       "      <td>(2018)</td>\n",
       "    </tr>\n",
       "    <tr>\n",
       "      <th>76</th>\n",
       "      <td>7.1</td>\n",
       "      <td>61</td>\n",
       "      <td>Sicario: Day of the Soldado</td>\n",
       "      <td>78257</td>\n",
       "      <td>(2018)</td>\n",
       "    </tr>\n",
       "    <tr>\n",
       "      <th>77</th>\n",
       "      <td>5.6</td>\n",
       "      <td>37</td>\n",
       "      <td>The Cloverfield Paradox</td>\n",
       "      <td>76996</td>\n",
       "      <td>(2018)</td>\n",
       "    </tr>\n",
       "    <tr>\n",
       "      <th>78</th>\n",
       "      <td>7.5</td>\n",
       "      <td>84</td>\n",
       "      <td>First Man</td>\n",
       "      <td>76959</td>\n",
       "      <td>(2018)</td>\n",
       "    </tr>\n",
       "    <tr>\n",
       "      <th>79</th>\n",
       "      <td>6.8</td>\n",
       "      <td>50</td>\n",
       "      <td>The Equalizer 2</td>\n",
       "      <td>76612</td>\n",
       "      <td>(2018)</td>\n",
       "    </tr>\n",
       "    <tr>\n",
       "      <th>80</th>\n",
       "      <td>5.5</td>\n",
       "      <td>48</td>\n",
       "      <td>The Predator</td>\n",
       "      <td>76129</td>\n",
       "      <td>(2018)</td>\n",
       "    </tr>\n",
       "    <tr>\n",
       "      <th>81</th>\n",
       "      <td>8.7</td>\n",
       "      <td>87</td>\n",
       "      <td>Spider-Man: Into the Spider-Verse</td>\n",
       "      <td>75301</td>\n",
       "      <td>(2018)</td>\n",
       "    </tr>\n",
       "    <tr>\n",
       "      <th>82</th>\n",
       "      <td>5.4</td>\n",
       "      <td>46</td>\n",
       "      <td>The Nun</td>\n",
       "      <td>73753</td>\n",
       "      <td>(2018)</td>\n",
       "    </tr>\n",
       "    <tr>\n",
       "      <th>83</th>\n",
       "      <td>6.3</td>\n",
       "      <td>56</td>\n",
       "      <td>The Commuter</td>\n",
       "      <td>73589</td>\n",
       "      <td>(I) (2018)</td>\n",
       "    </tr>\n",
       "    <tr>\n",
       "      <th>84</th>\n",
       "      <td>7.7</td>\n",
       "      <td>72</td>\n",
       "      <td>Love, Simon</td>\n",
       "      <td>72122</td>\n",
       "      <td>(2018)</td>\n",
       "    </tr>\n",
       "    <tr>\n",
       "      <th>85</th>\n",
       "      <td>7.0</td>\n",
       "      <td>74</td>\n",
       "      <td>Crazy Rich Asians</td>\n",
       "      <td>69927</td>\n",
       "      <td>(2018)</td>\n",
       "    </tr>\n",
       "    <tr>\n",
       "      <th>86</th>\n",
       "      <td>7.7</td>\n",
       "      <td>71</td>\n",
       "      <td>Searching</td>\n",
       "      <td>68766</td>\n",
       "      <td>(III) (2018)</td>\n",
       "    </tr>\n",
       "    <tr>\n",
       "      <th>87</th>\n",
       "      <td>6.8</td>\n",
       "      <td>67</td>\n",
       "      <td>Halloween</td>\n",
       "      <td>67163</td>\n",
       "      <td>(I) (2018)</td>\n",
       "    </tr>\n",
       "    <tr>\n",
       "      <th>88</th>\n",
       "      <td>5.9</td>\n",
       "      <td>51</td>\n",
       "      <td>Skyscraper</td>\n",
       "      <td>67119</td>\n",
       "      <td>(2018)</td>\n",
       "    </tr>\n",
       "    <tr>\n",
       "      <th>89</th>\n",
       "      <td>6.6</td>\n",
       "      <td>56</td>\n",
       "      <td>Tag</td>\n",
       "      <td>66348</td>\n",
       "      <td>(I) (2018)</td>\n",
       "    </tr>\n",
       "    <tr>\n",
       "      <th>90</th>\n",
       "      <td>7.0</td>\n",
       "      <td>49</td>\n",
       "      <td>Den of Thieves</td>\n",
       "      <td>61512</td>\n",
       "      <td>(2018)</td>\n",
       "    </tr>\n",
       "    <tr>\n",
       "      <th>91</th>\n",
       "      <td>7.4</td>\n",
       "      <td>79</td>\n",
       "      <td>The Ballad of Buster Scruggs</td>\n",
       "      <td>57933</td>\n",
       "      <td>(2018)</td>\n",
       "    </tr>\n",
       "    <tr>\n",
       "      <th>92</th>\n",
       "      <td>6.9</td>\n",
       "      <td>67</td>\n",
       "      <td>A Simple Favor</td>\n",
       "      <td>57788</td>\n",
       "      <td>(2018)</td>\n",
       "    </tr>\n",
       "    <tr>\n",
       "      <th>93</th>\n",
       "      <td>7.2</td>\n",
       "      <td>60</td>\n",
       "      <td>Bad Times at the El Royale</td>\n",
       "      <td>51822</td>\n",
       "      <td>(2018)</td>\n",
       "    </tr>\n",
       "  </tbody>\n",
       "</table>\n",
       "<p>94 rows × 5 columns</p>\n",
       "</div>"
      ],
      "text/plain": [
       "    IMDb  Metascore                                        Movie   Votes  \\\n",
       "0    8.5         68                       Avengers: Infinity War  565951   \n",
       "1    7.4         88                                Black Panther  442281   \n",
       "2    7.8         66                                   Deadpool 2  333358   \n",
       "3    7.5         64                             Ready Player One  265482   \n",
       "4    7.6         82                                A Quiet Place  257273   \n",
       "5    6.8         35                                        Venom  210389   \n",
       "6    7.8         86                Mission: Impossible - Fallout  204365   \n",
       "7    6.9         79                                 Annihilation  200356   \n",
       "8    7.0         62                      Solo: A Star Wars Story  191673   \n",
       "9    6.2         51               Jurassic World: Fallen Kingdom  191076   \n",
       "10   7.1         70                         Ant-Man and the Wasp  181570   \n",
       "11   8.3         49                            Bohemian Rhapsody  179845   \n",
       "12   7.8         80                                Incredibles 2  164017   \n",
       "13   6.3         48                                  Tomb Raider  149334   \n",
       "14   6.7         51                                     Bird Box  143189   \n",
       "15   7.0         66                                   Game Night  142600   \n",
       "16   8.1         88                               A Star Is Born  132477   \n",
       "17   7.5         55                                      Aquaman  125764   \n",
       "18   6.6         53                                  Red Sparrow  122106   \n",
       "19   7.3         87                                   Hereditary  121876   \n",
       "20   6.2         61                                Ocean's Eight  118872   \n",
       "21   6.8         52  Fantastic Beasts: The Crimes of Grindelwald  108159   \n",
       "22   6.1         45                                      Rampage  101501   \n",
       "23   5.7         46                                      The Meg   91846   \n",
       "24   7.9         82                                 Isle of Dogs   89677   \n",
       "25   6.2         50                  Maze Runner: The Death Cure   82976   \n",
       "26   7.6         83                               BlacKkKlansman   82060   \n",
       "27   7.6         67                                      Upgrade   81499   \n",
       "28   5.6         44                        Pacific Rim: Uprising   81472   \n",
       "29   7.1         61                  Sicario: Day of the Soldado   78257   \n",
       "..   ...        ...                                          ...     ...   \n",
       "64   7.5         55                                      Aquaman  125764   \n",
       "65   6.6         53                                  Red Sparrow  122106   \n",
       "66   7.3         87                                   Hereditary  121876   \n",
       "67   6.2         61                                Ocean's Eight  118872   \n",
       "68   6.8         52  Fantastic Beasts: The Crimes of Grindelwald  108159   \n",
       "69   6.1         45                                      Rampage  101501   \n",
       "70   5.7         46                                      The Meg   91846   \n",
       "71   7.9         82                                 Isle of Dogs   89677   \n",
       "72   6.2         50                  Maze Runner: The Death Cure   82976   \n",
       "73   7.6         83                               BlacKkKlansman   82060   \n",
       "74   7.6         67                                      Upgrade   81499   \n",
       "75   5.6         44                        Pacific Rim: Uprising   81472   \n",
       "76   7.1         61                  Sicario: Day of the Soldado   78257   \n",
       "77   5.6         37                      The Cloverfield Paradox   76996   \n",
       "78   7.5         84                                    First Man   76959   \n",
       "79   6.8         50                              The Equalizer 2   76612   \n",
       "80   5.5         48                                 The Predator   76129   \n",
       "81   8.7         87            Spider-Man: Into the Spider-Verse   75301   \n",
       "82   5.4         46                                      The Nun   73753   \n",
       "83   6.3         56                                 The Commuter   73589   \n",
       "84   7.7         72                                  Love, Simon   72122   \n",
       "85   7.0         74                            Crazy Rich Asians   69927   \n",
       "86   7.7         71                                    Searching   68766   \n",
       "87   6.8         67                                    Halloween   67163   \n",
       "88   5.9         51                                   Skyscraper   67119   \n",
       "89   6.6         56                                          Tag   66348   \n",
       "90   7.0         49                               Den of Thieves   61512   \n",
       "91   7.4         79                 The Ballad of Buster Scruggs   57933   \n",
       "92   6.9         67                               A Simple Favor   57788   \n",
       "93   7.2         60                   Bad Times at the El Royale   51822   \n",
       "\n",
       "            Year  \n",
       "0         (2018)  \n",
       "1         (2018)  \n",
       "2         (2018)  \n",
       "3         (2018)  \n",
       "4         (2018)  \n",
       "5         (2018)  \n",
       "6         (2018)  \n",
       "7         (2018)  \n",
       "8         (2018)  \n",
       "9         (2018)  \n",
       "10        (2018)  \n",
       "11        (2018)  \n",
       "12        (2018)  \n",
       "13        (2018)  \n",
       "14        (2018)  \n",
       "15    (I) (2018)  \n",
       "16        (2018)  \n",
       "17        (2018)  \n",
       "18        (2018)  \n",
       "19        (2018)  \n",
       "20        (2018)  \n",
       "21        (2018)  \n",
       "22        (2018)  \n",
       "23        (2018)  \n",
       "24        (2018)  \n",
       "25        (2018)  \n",
       "26        (2018)  \n",
       "27        (2018)  \n",
       "28        (2018)  \n",
       "29        (2018)  \n",
       "..           ...  \n",
       "64        (2018)  \n",
       "65        (2018)  \n",
       "66        (2018)  \n",
       "67        (2018)  \n",
       "68        (2018)  \n",
       "69        (2018)  \n",
       "70        (2018)  \n",
       "71        (2018)  \n",
       "72        (2018)  \n",
       "73        (2018)  \n",
       "74        (2018)  \n",
       "75        (2018)  \n",
       "76        (2018)  \n",
       "77        (2018)  \n",
       "78        (2018)  \n",
       "79        (2018)  \n",
       "80        (2018)  \n",
       "81        (2018)  \n",
       "82        (2018)  \n",
       "83    (I) (2018)  \n",
       "84        (2018)  \n",
       "85        (2018)  \n",
       "86  (III) (2018)  \n",
       "87    (I) (2018)  \n",
       "88        (2018)  \n",
       "89    (I) (2018)  \n",
       "90        (2018)  \n",
       "91        (2018)  \n",
       "92        (2018)  \n",
       "93        (2018)  \n",
       "\n",
       "[94 rows x 5 columns]"
      ]
     },
     "execution_count": 165,
     "metadata": {},
     "output_type": "execute_result"
    }
   ],
   "source": [
    "import pandas as pd\n",
    "\n",
    "test_df = pd.DataFrame({'Movie': names,\n",
    "                       'Year': years,\n",
    "                       'IMDb': imdb_ratings,\n",
    "                       'Metascore': metascores,\n",
    "                       'Votes': votes})\n",
    "print(test_df.info())\n",
    "test_df\n"
   ]
  },
  {
   "cell_type": "code",
   "execution_count": 139,
   "metadata": {},
   "outputs": [],
   "source": [
    "import matplotlib as plt\n",
    "import seaborn as sns\n",
    "import warnings\n",
    "warnings.filterwarnings('ignore')\n",
    "%matplotlib inline"
   ]
  },
  {
   "cell_type": "code",
   "execution_count": 140,
   "metadata": {},
   "outputs": [],
   "source": [
    "plt.rcParams['figure.figsize'] = 9,4"
   ]
  },
  {
   "cell_type": "code",
   "execution_count": 157,
   "metadata": {},
   "outputs": [
    {
     "data": {
      "image/png": "[encoded data removed]",
      "text/plain": [
       "<Figure size 432x288 with 1 Axes>"
      ]
     },
     "metadata": {},
     "output_type": "display_data"
    }
   ],
   "source": [
    "vis1=sns.distplot(test_df[\"imdb\"],bins=10)"
   ]
  },
  {
   "cell_type": "code",
   "execution_count": 162,
   "metadata": {},
   "outputs": [
    {
     "data": {
      "image/png": "[encoded data removed]",
      "text/plain": [
       "<Figure size 432x288 with 1 Axes>"
      ]
     },
     "metadata": {},
     "output_type": "display_data"
    }
   ],
   "source": [
    "plt.hist(test_df['imdb'])\n",
    "_ = plt.xlabel('IMDb')\n"
   ]
  },
  {
   "cell_type": "code",
   "execution_count": 166,
   "metadata": {},
   "outputs": [],
   "source": [
    "#for more than 1 pages"
   ]
  },
  {
   "cell_type": "code",
   "execution_count": 167,
   "metadata": {},
   "outputs": [],
   "source": [
    "names=[]\n",
    "years=[]\n",
    "imdb_ratings=[]\n",
    "metascores=[]\n",
    "votes=[]"
   ]
  },
  {
   "cell_type": "code",
   "execution_count": 171,
   "metadata": {},
   "outputs": [],
   "source": [
    "from time import time\n",
    "from random import randint"
   ]
  },
  {
   "cell_type": "code",
   "execution_count": 172,
   "metadata": {},
   "outputs": [],
   "source": [
    "#Monitoring of loop\n",
    "start_time=time()\n",
    "requets=0"
   ]
  },
  {
   "cell_type": "code",
   "execution_count": null,
   "metadata": {},
   "outputs": [],
   "source": [
    "for year_url in years_url:\n",
    "    for pages in page:\n",
    "        response = get('https://www.imdb.com/search/title?release_date='+year_url+&sort=num_votes,desc&page='+page,headers=headers)\n",
    "                       sleep(randint(8,15))\n",
    "                       requests=+1\n",
    "        \n"
   ]
  }
 ],
 "metadata": {
  "kernelspec": {
   "display_name": "Python 2",
   "language": "python",
   "name": "python2"
  },
  "language_info": {
   "codemirror_mode": {
    "name": "ipython",
    "version": 2
   },
   "file_extension": ".py",
   "mimetype": "text/x-python",
   "name": "python",
   "nbconvert_exporter": "python",
   "pygments_lexer": "ipython2",
   "version": "2.7.15"
  }
 },
 "nbformat": 4,
 "nbformat_minor": 2
}
